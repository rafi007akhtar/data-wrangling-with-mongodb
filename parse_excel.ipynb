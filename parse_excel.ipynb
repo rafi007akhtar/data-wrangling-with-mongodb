{
 "cells": [
  {
   "cell_type": "markdown",
   "metadata": {},
   "source": [
    "# Working with Excel in Python"
   ]
  },
  {
   "cell_type": "markdown",
   "metadata": {},
   "source": [
    "## Install Dependencies\n",
    "The `xlrd` library is used to work with Excel in Python. It can be used for both .xls and .xlsx files. The one this notebook uses is an .xls file."
   ]
  },
  {
   "cell_type": "code",
   "execution_count": 1,
   "metadata": {},
   "outputs": [],
   "source": [
    "## Uncomment the following line(s) if dependecies are not installed\n",
    "# !pip install xlrd"
   ]
  },
  {
   "cell_type": "markdown",
   "metadata": {},
   "source": [
    "## Import Modules"
   ]
  },
  {
   "cell_type": "code",
   "execution_count": 2,
   "metadata": {},
   "outputs": [],
   "source": [
    "import xlrd"
   ]
  },
  {
   "cell_type": "markdown",
   "metadata": {},
   "source": [
    "## Perform Excel Operations"
   ]
  },
  {
   "cell_type": "code",
   "execution_count": 4,
   "metadata": {},
   "outputs": [],
   "source": [
    "FILENAME = '2013_ERCOT_Hourly_Load_Data.xls'"
   ]
  },
  {
   "cell_type": "markdown",
   "metadata": {},
   "source": [
    "### Import workbook\n",
    "\n",
    "`xlrd` is a zero-indexed library. It means the first sheet is sheet 0, the first row is row 0, and the column A is column 0. And so on."
   ]
  },
  {
   "cell_type": "code",
   "execution_count": 7,
   "metadata": {},
   "outputs": [],
   "source": [
    "workbook = xlrd.open_workbook(FILENAME)\n",
    "sheet = workbook.sheet_by_index(0)"
   ]
  },
  {
   "cell_type": "markdown",
   "metadata": {},
   "source": [
    "### Basic Operations\n",
    "- `sheet.nrows` returns the number of rows in `sheet`.\n",
    "- `sheet.ncols` returns the number of columns in `sheet`.\n",
    "- `sheet.cell_value(r, c)` is used to get the value of the cell in row `r` and column `c`."
   ]
  },
  {
   "cell_type": "code",
   "execution_count": 8,
   "metadata": {},
   "outputs": [
    {
     "name": "stdout",
     "output_type": "stream",
     "text": [
      "7296\n",
      "10\n"
     ]
    }
   ],
   "source": [
    "print(sheet.nrows)\n",
    "print(sheet.ncols)"
   ]
  },
  {
   "cell_type": "code",
   "execution_count": 11,
   "metadata": {},
   "outputs": [],
   "source": [
    "# Store all the elements in a variable called `data`\n",
    "\n",
    "data = [\n",
    "    [sheet.cell_value(r, c) for c in range(sheet.ncols)]\n",
    "    for r in range(sheet.nrows)\n",
    "]\n"
   ]
  },
  {
   "cell_type": "code",
   "execution_count": 13,
   "metadata": {},
   "outputs": [
    {
     "name": "stdout",
     "output_type": "stream",
     "text": [
      "7296\n",
      "10\n"
     ]
    }
   ],
   "source": [
    "print(len(data))  # should be same as `sheet.nrows`\n",
    "print(len(data[0]))  # should be same as `sheet.ncols`"
   ]
  },
  {
   "cell_type": "code",
   "execution_count": 16,
   "metadata": {},
   "outputs": [
    {
     "name": "stdout",
     "output_type": "stream",
     "text": [
      "1036.0886969999988\n"
     ]
    }
   ],
   "source": [
    "print(data[3][2])  # in the Excel, this would correspond to the cell with row 4 and column C"
   ]
  },
  {
   "cell_type": "code",
   "execution_count": 27,
   "metadata": {},
   "outputs": [
    {
     "name": "stdout",
     "output_type": "stream",
     "text": [
      "41277.083333333336, 9238.737309999968, 1438.2052799999994, 1565.4428559999976, 916.7083480000003, 14010.903488000036, 3027.9833399999993, 6165.211119000006, 1157.7416630000007, 37520.93340400001, "
     ]
    }
   ],
   "source": [
    "# Without using any built-in method other than the ones discussed so far,\n",
    "# print the values of all the cells in the row with index 50\n",
    "\n",
    "def get_row_50_the_hard_way():\n",
    "    got_em = False\n",
    "    for row in range(sheet.nrows):\n",
    "        for col in range(sheet.ncols):\n",
    "            if row == 50:\n",
    "                got_em = True  # got 'em!\n",
    "                print(sheet.cell_value(row, col), end=\", \")\n",
    "        if got_em:\n",
    "            break\n",
    "get_row_50_the_hard_way()  # of course, there is an easier way a little later."
   ]
  },
  {
   "cell_type": "markdown",
   "metadata": {},
   "source": [
    "`sheet.cell_type(r, c)` returns an integer from 0 to 6 denoting the data type of the value in the cell with row `r` and column `c`.\n",
    "\n",
    "- 0 is an empty cell\n",
    "- 1 means string data\n",
    "- 2 is for a float number\n",
    "- 3 is for a float date\n",
    "- 4 is for boolean\n",
    "- 5 means an error happened\n",
    "- 6 is for a blank cell\n",
    "\n",
    "More on this can be found in the [official documentaion](https://xlrd.readthedocs.io/en/latest/api.html#xlrd.sheet.Cell).\n"
   ]
  },
  {
   "cell_type": "code",
   "execution_count": 22,
   "metadata": {},
   "outputs": [
    {
     "name": "stdout",
     "output_type": "stream",
     "text": [
      "value (3,2) = 1036.0886969999988\n",
      "type(3, 2) = 2\n"
     ]
    }
   ],
   "source": [
    "# Print the data type and value of the cell in row 3 and column 2\n",
    "print(f'value (3,2) = {sheet.cell_value(3, 2)}')  # this is a float number\n",
    "print(f'type(3, 2) = {sheet.cell_type(3, 2)}')  # so data type should be 2"
   ]
  },
  {
   "cell_type": "markdown",
   "metadata": {},
   "source": [
    "`sheet.col_values(c, start_rowx=a, end_rowx=b)` is used to get a slice of the values in column `c` from row `a` till row `b-1`.\n",
    "\n",
    "The slice is returned as a Python list."
   ]
  },
  {
   "cell_type": "code",
   "execution_count": 23,
   "metadata": {},
   "outputs": [
    {
     "name": "stdout",
     "output_type": "stream",
     "text": [
      "[1411.7505669999982, 1403.4722870000019, 1395.053150000001]\n"
     ]
    }
   ],
   "source": [
    "# Get the slice of values in column 3, from rows 1-3\n",
    "print(sheet.col_values(3, start_rowx=1, end_rowx=4))"
   ]
  },
  {
   "cell_type": "markdown",
   "metadata": {},
   "source": [
    "Ofcourse, in Excel this would mean all the values in column D in rows 2, 3, and 4.\n",
    "\n",
    "Intuitively, `sheet.row_values` can also be used."
   ]
  },
  {
   "cell_type": "code",
   "execution_count": 29,
   "metadata": {},
   "outputs": [
    {
     "name": "stdout",
     "output_type": "stream",
     "text": [
      "[41277.083333333336, 9238.737309999968, 1438.2052799999994, 1565.4428559999976, 916.7083480000003, 14010.903488000036, 3027.9833399999993, 6165.211119000006, 1157.7416630000007, 37520.93340400001]\n"
     ]
    }
   ],
   "source": [
    "# Perform `get_row_50_the_hard_way` using `sheet.row_values` method.\n",
    "print(sheet.row_values(50))  # When column indices are skipped, it returns the entire row"
   ]
  },
  {
   "cell_type": "markdown",
   "metadata": {},
   "source": [
    "### Working with Dates\n",
    "\n",
    "This is a little different in XLS and XLSX files.\n",
    "\n",
    "- In XLS files, the datetime is stored as an epoch number. You can get this value by just fetching the cell containing a date using `sheet.cell_value`.\n",
    "- XLSX actually stores the datetime as a tuple that can be used with Python. The XLS date can be converted to this tuple using `xldate_as_tuple` method."
   ]
  },
  {
   "cell_type": "code",
   "execution_count": 32,
   "metadata": {},
   "outputs": [
    {
     "name": "stdout",
     "output_type": "stream",
     "text": [
      "41275.041666666664\n",
      "3\n"
     ]
    }
   ],
   "source": [
    "exceltime = sheet.cell_value(1, 0)\n",
    "print(exceltime)  # it's an epoch time\n",
    "print(sheet.cell_type(1, 0))"
   ]
  },
  {
   "cell_type": "code",
   "execution_count": 34,
   "metadata": {},
   "outputs": [
    {
     "name": "stdout",
     "output_type": "stream",
     "text": [
      "(2013, 1, 1, 1, 0, 0)\n"
     ]
    }
   ],
   "source": [
    "tupletime = xlrd.xldate_as_tuple(exceltime, 0)\n",
    "print(tupletime)"
   ]
  },
  {
   "cell_type": "code",
   "execution_count": null,
   "metadata": {},
   "outputs": [],
   "source": []
  }
 ],
 "metadata": {
  "interpreter": {
   "hash": "fb28a47e64698fd316ef894d8ed3433d0649d6e25f9973778a9bc5864bd7dec0"
  },
  "kernelspec": {
   "display_name": "Python 3.9.0 64-bit",
   "language": "python",
   "name": "python3"
  },
  "language_info": {
   "codemirror_mode": {
    "name": "ipython",
    "version": 3
   },
   "file_extension": ".py",
   "mimetype": "text/x-python",
   "name": "python",
   "nbconvert_exporter": "python",
   "pygments_lexer": "ipython3",
   "version": "3.9.0"
  },
  "orig_nbformat": 4
 },
 "nbformat": 4,
 "nbformat_minor": 2
}
